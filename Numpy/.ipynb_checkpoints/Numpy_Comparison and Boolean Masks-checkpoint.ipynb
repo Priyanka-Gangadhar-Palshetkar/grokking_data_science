{
 "cells": [
  {
   "cell_type": "code",
   "execution_count": 3,
   "metadata": {},
   "outputs": [
    {
     "name": "stdout",
     "output_type": "stream",
     "text": [
      "[ True False False False False]\n",
      "[False False False  True  True]\n"
     ]
    }
   ],
   "source": [
    "# Comparisons returns a boolean array and happen elementwise\n",
    "import numpy as np\n",
    "x = np.array([1,2,3,4,5])\n",
    "\n",
    "print(x < 2)\n",
    "print(x >= 4)"
   ]
  },
  {
   "cell_type": "code",
   "execution_count": 4,
   "metadata": {},
   "outputs": [
    {
     "data": {
      "text/plain": [
       "array([ True, False, False, False, False])"
      ]
     },
     "execution_count": 4,
     "metadata": {},
     "output_type": "execute_result"
    }
   ],
   "source": [
    "(2 * x) > (x ** 2)"
   ]
  },
  {
   "cell_type": "code",
   "execution_count": 7,
   "metadata": {},
   "outputs": [
    {
     "name": "stdout",
     "output_type": "stream",
     "text": [
      "[0 1 2 3 4 5 6 7 8 9]\n",
      "Count non zero values less than 6:  6\n",
      "Any values greater than 8:  True\n",
      "All values less than 10:  True\n"
     ]
    }
   ],
   "source": [
    "# Count non-zero, any, all\n",
    "y = np.arange(10)\n",
    "\n",
    "print(y)\n",
    "print(\"Count non zero values less than 6: \", np.count_nonzero(y < 6))\n",
    "print(\"Any values greater than 8: \", np.any(y > 8))\n",
    "print(\"All values less than 10: \", np.all(y < 10))"
   ]
  },
  {
   "cell_type": "code",
   "execution_count": 8,
   "metadata": {},
   "outputs": [
    {
     "name": "stdout",
     "output_type": "stream",
     "text": [
      "[9]\n"
     ]
    }
   ],
   "source": [
    "# Boolean masks\n",
    "print(y[y>8]) # We dont just want to find if a value greater than 8 exists, but get that value"
   ]
  },
  {
   "cell_type": "code",
   "execution_count": null,
   "metadata": {},
   "outputs": [],
   "source": []
  }
 ],
 "metadata": {
  "kernelspec": {
   "display_name": "Python 3",
   "language": "python",
   "name": "python3"
  },
  "language_info": {
   "codemirror_mode": {
    "name": "ipython",
    "version": 3
   },
   "file_extension": ".py",
   "mimetype": "text/x-python",
   "name": "python",
   "nbconvert_exporter": "python",
   "pygments_lexer": "ipython3",
   "version": "3.9.0"
  }
 },
 "nbformat": 4,
 "nbformat_minor": 4
}
