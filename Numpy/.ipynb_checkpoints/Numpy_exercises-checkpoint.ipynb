{
 "cells": [
  {
   "cell_type": "code",
   "execution_count": 5,
   "metadata": {},
   "outputs": [
    {
     "name": "stdout",
     "output_type": "stream",
     "text": [
      "[0 0 0 0 0 0 0 0 0 0]\n"
     ]
    }
   ],
   "source": [
    "import numpy as np\n",
    "\n",
    "Z = np.zeros(10, dtype='int64')\n",
    "print(Z)"
   ]
  },
  {
   "cell_type": "code",
   "execution_count": 7,
   "metadata": {},
   "outputs": [
    {
     "name": "stdout",
     "output_type": "stream",
     "text": [
      "[0 1 2 3 4 5 6 7 8 9]\n"
     ]
    }
   ],
   "source": [
    "arr = np.arange(10)\n",
    "\n",
    "print(arr)"
   ]
  },
  {
   "cell_type": "code",
   "execution_count": 11,
   "metadata": {},
   "outputs": [
    {
     "name": "stdout",
     "output_type": "stream",
     "text": [
      "[[[0.10886264 0.33481577 0.70334739]\n",
      "  [0.00807732 0.0430629  0.35513522]\n",
      "  [0.30540684 0.81000803 0.66698107]]\n",
      "\n",
      " [[0.27898139 0.08750731 0.39107028]\n",
      "  [0.00649713 0.03972683 0.52182729]\n",
      "  [0.85922883 0.89614976 0.09572504]]\n",
      "\n",
      " [[0.92439648 0.63369165 0.11561214]\n",
      "  [0.68107262 0.43874439 0.7674305 ]\n",
      "  [0.65652988 0.33862064 0.79156139]]]\n"
     ]
    }
   ],
   "source": [
    "arr2 = np.random.random((3,3,3))\n",
    "\n",
    "print(arr2)"
   ]
  },
  {
   "cell_type": "code",
   "execution_count": 13,
   "metadata": {},
   "outputs": [
    {
     "name": "stdout",
     "output_type": "stream",
     "text": [
      "[[88  0 38 96  3 97  4 45 75 69]\n",
      " [94  4 48 72 60 80 14 63  1 97]\n",
      " [50 77 14 18 26  3 93 83  6 11]\n",
      " [75 78 78 69 32 57 22 50 14 31]\n",
      " [84 92 96 64 50 14 38 30  1 77]\n",
      " [40 75 49 37 41 56 88  6 64  5]\n",
      " [ 8 90 34 95 39 73 11 95 73  8]\n",
      " [10 81 71 72 70 11 74 92 85 62]\n",
      " [14 89 70 13 91 13 31  7 14 54]\n",
      " [11 22  9 19 40 89 19 92 66 66]]\n",
      "min_val:  0\n",
      "max_val:  97\n"
     ]
    }
   ],
   "source": [
    "arr4 = np.random.randint(0,100,(10,10))\n",
    "\n",
    "print(arr4)\n",
    "min_val = arr4.min()\n",
    "max_val = arr4.max()\n",
    "\n",
    "print(\"min_val: \", min_val)\n",
    "print(\"max_val: \", max_val)"
   ]
  },
  {
   "cell_type": "code",
   "execution_count": 14,
   "metadata": {},
   "outputs": [
    {
     "name": "stdout",
     "output_type": "stream",
     "text": [
      "[1 2 3 4 5 6 7 8 9]\n",
      "[[1 2 3]\n",
      " [4 5 6]\n",
      " [7 8 9]]\n"
     ]
    }
   ],
   "source": [
    "arr3 = np.arange(1,10)\n",
    "\n",
    "print(arr3)\n",
    "\n",
    "grid = arr3.reshape((3,3))\n",
    "\n",
    "print(grid)"
   ]
  },
  {
   "cell_type": "code",
   "execution_count": 21,
   "metadata": {},
   "outputs": [
    {
     "name": "stdout",
     "output_type": "stream",
     "text": [
      "[0 1 2 3 4 5 6 7 8 9]\n",
      "[ 0  1  2  3  4  5  6  7  8 -1]\n"
     ]
    }
   ],
   "source": [
    "arr6 = np.arange(10)\n",
    "\n",
    "print(arr6)\n",
    "\n",
    "max_val = arr6.max()\n",
    "max_val_index = np.where(arr6 == max_val)    # where helps to find the index of a certain value\n",
    "\n",
    "arr6[max_val_index] = -1\n",
    "\n",
    "print(arr6)"
   ]
  },
  {
   "cell_type": "code",
   "execution_count": 26,
   "metadata": {},
   "outputs": [
    {
     "name": "stdout",
     "output_type": "stream",
     "text": [
      "[[0 1 2]\n",
      " [3 4 5]\n",
      " [6 7 8]]\n",
      "[[6 7 8]\n",
      " [3 4 5]\n",
      " [0 1 2]]\n"
     ]
    }
   ],
   "source": [
    "arr7 = np.arange(9).reshape(3,3)\n",
    "\n",
    "print(arr7)\n",
    "\n",
    "row_rev_arr7 = arr7[::-1, ::]\n",
    "\n",
    "print(row_rev_arr7)"
   ]
  },
  {
   "cell_type": "code",
   "execution_count": 29,
   "metadata": {},
   "outputs": [
    {
     "name": "stdout",
     "output_type": "stream",
     "text": [
      "[[0.9038842  0.0414042  0.52203599 0.09343413 0.78539655 0.88054285\n",
      "  0.99769067 0.47627783 0.32077112 0.77823133]\n",
      " [0.74285045 0.70809843 0.76358568 0.33621606 0.33087554 0.98240954\n",
      "  0.9364516  0.10427668 0.02539486 0.28341973]\n",
      " [0.36423104 0.44972227 0.63394784 0.87076752 0.45928963 0.90014201\n",
      "  0.29868003 0.79796257 0.34356349 0.51710673]]\n",
      "[[0.57996689]\n",
      " [0.52135786]\n",
      " [0.56354131]]\n",
      "[[ 0.32391731 -0.53856268 -0.05793089 -0.48653276  0.20542967  0.30057596\n",
      "   0.41772378 -0.10368906 -0.25919577  0.19826445]\n",
      " [ 0.22149259  0.18674057  0.24222782 -0.1851418  -0.19048232  0.46105168\n",
      "   0.41509374 -0.41708118 -0.49596299 -0.23793812]\n",
      " [-0.19931027 -0.11381905  0.07040653  0.30722621 -0.10425169  0.33660069\n",
      "  -0.26486129  0.23442126 -0.21997782 -0.04643459]]\n"
     ]
    }
   ],
   "source": [
    "arr8 = np.random.rand(3,10)\n",
    "\n",
    "print(arr8)\n",
    "\n",
    "mean = arr8.mean(axis=1, keepdims=True)   # axis = 1 is row-horizontal and # axis = 0 is column-vertical\n",
    "print(mean)\n",
    "\n",
    "transformed_arr8 = arr8 - mean\n",
    "print(transformed_arr8)"
   ]
  },
  {
   "cell_type": "code",
   "execution_count": null,
   "metadata": {},
   "outputs": [],
   "source": []
  }
 ],
 "metadata": {
  "kernelspec": {
   "display_name": "Python 3",
   "language": "python",
   "name": "python3"
  },
  "language_info": {
   "codemirror_mode": {
    "name": "ipython",
    "version": 3
   },
   "file_extension": ".py",
   "mimetype": "text/x-python",
   "name": "python",
   "nbconvert_exporter": "python",
   "pygments_lexer": "ipython3",
   "version": "3.9.0"
  }
 },
 "nbformat": 4,
 "nbformat_minor": 4
}
