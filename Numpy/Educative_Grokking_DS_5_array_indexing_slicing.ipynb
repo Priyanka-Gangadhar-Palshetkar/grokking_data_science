{
 "cells": [
  {
   "cell_type": "code",
   "execution_count": 2,
   "metadata": {},
   "outputs": [
    {
     "name": "stdout",
     "output_type": "stream",
     "text": [
      "Before:  1\n",
      "After:  5\n"
     ]
    }
   ],
   "source": [
    "# Array indexing\n",
    "import numpy as np\n",
    "\n",
    "x1 = np.array([1,3,5,7,9,11])\n",
    "\n",
    "print(\"Before: \", x1[0])\n",
    "\n",
    "x1[0] = 5\n",
    "\n",
    "print(\"After: \", x1[0])"
   ]
  },
  {
   "cell_type": "code",
   "execution_count": 3,
   "metadata": {},
   "outputs": [
    {
     "name": "stdout",
     "output_type": "stream",
     "text": [
      "Before:  11\n",
      "After:  -11\n"
     ]
    }
   ],
   "source": [
    "# Negative indices\n",
    "\n",
    "print(\"Before: \", x1[-1])\n",
    "\n",
    "x1[-1] = -11\n",
    "\n",
    "print(\"After: \", x1[-1])"
   ]
  },
  {
   "cell_type": "code",
   "execution_count": 6,
   "metadata": {},
   "outputs": [
    {
     "name": "stdout",
     "output_type": "stream",
     "text": [
      "3\n"
     ]
    }
   ],
   "source": [
    "# Multi-dimensional array indexing\n",
    "\n",
    "x2 = np.array([[1,2,3],[3,4,5]])\n",
    "\n",
    "print(x2[0,-1])"
   ]
  },
  {
   "cell_type": "code",
   "execution_count": 8,
   "metadata": {},
   "outputs": [
    {
     "name": "stdout",
     "output_type": "stream",
     "text": [
      "[0 1 2 3 4 5 6 7 8 9]\n"
     ]
    },
    {
     "data": {
      "text/plain": [
       "array([0, 1, 2, 3, 4])"
      ]
     },
     "execution_count": 8,
     "metadata": {},
     "output_type": "execute_result"
    }
   ],
   "source": [
    "# Slicing arrays\n",
    "\n",
    "x3 = np.arange(10)\n",
    "\n",
    "print(x3)\n",
    "\n",
    "# First five elements\n",
    "\n",
    "x3[:5]"
   ]
  },
  {
   "cell_type": "code",
   "execution_count": 11,
   "metadata": {},
   "outputs": [
    {
     "data": {
      "text/plain": [
       "array([0, 2, 4, 6, 8])"
      ]
     },
     "execution_count": 11,
     "metadata": {},
     "output_type": "execute_result"
    }
   ],
   "source": [
    "# Even elements\n",
    "\n",
    "x3[::2]"
   ]
  },
  {
   "cell_type": "code",
   "execution_count": 12,
   "metadata": {},
   "outputs": [
    {
     "data": {
      "text/plain": [
       "array([4, 5, 6, 7, 8, 9])"
      ]
     },
     "execution_count": 12,
     "metadata": {},
     "output_type": "execute_result"
    }
   ],
   "source": [
    "# Elements after index 4\n",
    "\n",
    "x3[4::]"
   ]
  },
  {
   "cell_type": "code",
   "execution_count": 13,
   "metadata": {},
   "outputs": [
    {
     "data": {
      "text/plain": [
       "array([4, 5, 6])"
      ]
     },
     "execution_count": 13,
     "metadata": {},
     "output_type": "execute_result"
    }
   ],
   "source": [
    "# Fourth to sixth\n",
    "\n",
    "x3[4:7:]"
   ]
  },
  {
   "cell_type": "code",
   "execution_count": 15,
   "metadata": {},
   "outputs": [
    {
     "data": {
      "text/plain": [
       "array([9, 8, 7, 6, 5, 4, 3, 2, 1, 0])"
      ]
     },
     "execution_count": 15,
     "metadata": {},
     "output_type": "execute_result"
    }
   ],
   "source": [
    "# Negative step value can help us reverse an array!\n",
    "\n",
    "# Start and Stop values are swapped\n",
    "\n",
    "x3[::-1]"
   ]
  },
  {
   "cell_type": "code",
   "execution_count": 18,
   "metadata": {},
   "outputs": [
    {
     "data": {
      "text/plain": [
       "array([5, 3, 1])"
      ]
     },
     "execution_count": 18,
     "metadata": {},
     "output_type": "execute_result"
    }
   ],
   "source": [
    "# Reverse every other element starting from index 5\n",
    "\n",
    "x3[5::-2]"
   ]
  },
  {
   "cell_type": "code",
   "execution_count": 20,
   "metadata": {},
   "outputs": [
    {
     "name": "stdout",
     "output_type": "stream",
     "text": [
      "[0 1 2 3 5 5 6 7 8 9]\n"
     ]
    }
   ],
   "source": [
    "x3[4] = 5\n",
    "\n",
    "print(x3)"
   ]
  },
  {
   "cell_type": "code",
   "execution_count": 22,
   "metadata": {},
   "outputs": [
    {
     "name": "stdout",
     "output_type": "stream",
     "text": [
      "[0 2 5 6 8]\n"
     ]
    }
   ],
   "source": [
    "x4 = x3[::2]\n",
    "\n",
    "print(x4)"
   ]
  },
  {
   "cell_type": "code",
   "execution_count": 23,
   "metadata": {},
   "outputs": [
    {
     "name": "stdout",
     "output_type": "stream",
     "text": [
      "[0 1 2 3 5 5 6 7 8 9]\n"
     ]
    }
   ],
   "source": [
    "print(x3)"
   ]
  },
  {
   "cell_type": "code",
   "execution_count": 24,
   "metadata": {},
   "outputs": [
    {
     "name": "stdout",
     "output_type": "stream",
     "text": [
      "x4:  [1 2 5 6 8]\n",
      "x3:  [1 1 2 3 5 5 6 7 8 9]\n"
     ]
    }
   ],
   "source": [
    "x4[0] = 1\n",
    "\n",
    "print(\"x4: \", x4)\n",
    "print(\"x3: \", x3)     #Notice how x3[0] also got changed (Copy by reference)"
   ]
  },
  {
   "cell_type": "code",
   "execution_count": 25,
   "metadata": {},
   "outputs": [
    {
     "name": "stdout",
     "output_type": "stream",
     "text": [
      "x5:  [9 8 7 6 5 5 3 2 1 1]\n",
      "x3:  [1 1 2 3 5 5 6 7 8 9]\n"
     ]
    }
   ],
   "source": [
    "# copy by value\n",
    "\n",
    "x5 = x3[::-1].copy()\n",
    "\n",
    "print(\"x5: \", x5)\n",
    "print(\"x3: \", x3)"
   ]
  },
  {
   "cell_type": "code",
   "execution_count": 26,
   "metadata": {},
   "outputs": [
    {
     "name": "stdout",
     "output_type": "stream",
     "text": [
      "x5:  [8 8 7 6 5 5 3 2 1 1]\n",
      "x3:  [1 1 2 3 5 5 6 7 8 9]\n"
     ]
    }
   ],
   "source": [
    "x5[0] = 8\n",
    "\n",
    "print(\"x5: \", x5)\n",
    "print(\"x3: \", x3)"
   ]
  },
  {
   "cell_type": "code",
   "execution_count": null,
   "metadata": {},
   "outputs": [],
   "source": []
  }
 ],
 "metadata": {
  "kernelspec": {
   "display_name": "Python 3",
   "language": "python",
   "name": "python3"
  },
  "language_info": {
   "codemirror_mode": {
    "name": "ipython",
    "version": 3
   },
   "file_extension": ".py",
   "mimetype": "text/x-python",
   "name": "python",
   "nbconvert_exporter": "python",
   "pygments_lexer": "ipython3",
   "version": "3.9.0"
  }
 },
 "nbformat": 4,
 "nbformat_minor": 4
}
