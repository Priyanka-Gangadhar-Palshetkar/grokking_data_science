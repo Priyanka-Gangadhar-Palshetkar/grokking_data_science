{
 "cells": [
  {
   "cell_type": "code",
   "execution_count": 2,
   "metadata": {},
   "outputs": [
    {
     "name": "stdout",
     "output_type": "stream",
     "text": [
      "add:  [ 5  6  7  8  9 10 11 12 13 14]\n",
      "subtract:  [-5 -4 -3 -2 -1  0  1  2  3  4]\n",
      "multiply:  [ 0  5 10 15 20 25 30 35 40 45]\n",
      "divide:  [0.  0.2 0.4 0.6 0.8 1.  1.2 1.4 1.6 1.8]\n",
      "exponential:  [    0     1    32   243  1024  3125  7776 16807 32768 59049]\n",
      "remainder:  [0 1 2 3 4 0 1 2 3 4]\n"
     ]
    }
   ],
   "source": [
    "import numpy as np\n",
    "\n",
    "x = np.arange(10)\n",
    "\n",
    "print(\"add: \", x + 5)\n",
    "print(\"subtract: \", x - 5)\n",
    "print(\"multiply: \", x * 5)\n",
    "print(\"divide: \", x / 5)\n",
    "print(\"exponential: \", x ** 5)\n",
    "print(\"remainder: \", x % 5)"
   ]
  },
  {
   "cell_type": "code",
   "execution_count": 3,
   "metadata": {},
   "outputs": [
    {
     "name": "stdout",
     "output_type": "stream",
     "text": [
      "add:  [ 5  6  7  8  9 10 11 12 13 14]\n",
      "subtract:  [-5 -4 -3 -2 -1  0  1  2  3  4]\n",
      "multiply:  [ 0  5 10 15 20 25 30 35 40 45]\n",
      "divide:  [0.  0.2 0.4 0.6 0.8 1.  1.2 1.4 1.6 1.8]\n",
      "exponential:  [    0     1    32   243  1024  3125  7776 16807 32768 59049]\n",
      "remainder:  [0 1 2 3 4 0 1 2 3 4]\n"
     ]
    }
   ],
   "source": [
    "# Using universal functions - '+' is a wrapper for the add function and likewise\n",
    "\n",
    "print(\"add: \", np.add(x, 5))\n",
    "print(\"subtract: \", np.subtract(x, 5))\n",
    "print(\"multiply: \", np.multiply(x, 5))\n",
    "print(\"divide: \", np.divide(x, 5))\n",
    "print(\"exponential: \", np.power(x, 5))\n",
    "print(\"remainder: \", np.mod(x, 5))"
   ]
  },
  {
   "cell_type": "code",
   "execution_count": 8,
   "metadata": {},
   "outputs": [
    {
     "name": "stdout",
     "output_type": "stream",
     "text": [
      "[0.         1.04719755 2.0943951  3.14159265]\n",
      "sine:  [0.00000000e+00 8.66025404e-01 8.66025404e-01 1.22464680e-16]\n",
      "cos:  [ 1.   0.5 -0.5 -1. ]\n",
      "tan:  [ 0.00000000e+00  1.73205081e+00 -1.73205081e+00 -1.22464680e-16]\n"
     ]
    }
   ],
   "source": [
    "# Trigonometric functions\n",
    "\n",
    "theta = np.linspace(0, np.pi, 4)\n",
    "print(theta)\n",
    "\n",
    "print(\"sine: \", np.sin(theta))\n",
    "print(\"cos: \", np.cos(theta))\n",
    "print(\"tan: \", np.tan(theta))"
   ]
  },
  {
   "cell_type": "code",
   "execution_count": 9,
   "metadata": {},
   "outputs": [
    {
     "name": "stdout",
     "output_type": "stream",
     "text": [
      "x:  [1, 2, 3]\n",
      "e^x:  [ 2.71828183  7.3890561  20.08553692]\n",
      "2^x:  [2 4 8]\n",
      "ln(x):  [0.         0.69314718 1.09861229]\n",
      "log2(x):  [0.        1.        1.5849625]\n"
     ]
    }
   ],
   "source": [
    "# Logarithms and Exponentials\n",
    "\n",
    "x = [1,2,3]\n",
    "\n",
    "print(\"x: \", x)\n",
    "print(\"e^x: \", np.exp(x))\n",
    "print(\"2^x: \", np.power(2,x))\n",
    "print(\"ln(x): \", np.log(x))\n",
    "print(\"log2(x): \", np.log2(x))"
   ]
  },
  {
   "cell_type": "code",
   "execution_count": 11,
   "metadata": {},
   "outputs": [
    {
     "name": "stdout",
     "output_type": "stream",
     "text": [
      "45\n"
     ]
    }
   ],
   "source": [
    "# Reduce and Accumulate\n",
    "\n",
    "a = np.arange(10)\n",
    "\n",
    "sum = np.add.reduce(a)\n",
    "\n",
    "print(sum)  #sum calls add.reduce under the hood with extra steps. Hence, it is slower!"
   ]
  },
  {
   "cell_type": "code",
   "execution_count": 13,
   "metadata": {},
   "outputs": [
    {
     "name": "stdout",
     "output_type": "stream",
     "text": [
      "[ 0  1  3  6 10 15 21 28 36 45]\n"
     ]
    }
   ],
   "source": [
    "sum_acc = np.add.accumulate(a)\n",
    "\n",
    "print(sum_acc) # We just created a fibonacci series of the array"
   ]
  },
  {
   "cell_type": "code",
   "execution_count": 14,
   "metadata": {},
   "outputs": [
    {
     "name": "stdout",
     "output_type": "stream",
     "text": [
      "Sum:  45\n",
      "Mean:  4.5\n",
      "Max:  9\n",
      "Min:  0\n"
     ]
    }
   ],
   "source": [
    "# Aggregations\n",
    "\n",
    "print(\"Sum: \", a.sum())\n",
    "print(\"Mean: \", a.mean())\n",
    "print(\"Max: \", a.max())\n",
    "print(\"Min: \", a.min())"
   ]
  },
  {
   "cell_type": "code",
   "execution_count": 15,
   "metadata": {},
   "outputs": [
    {
     "name": "stdout",
     "output_type": "stream",
     "text": [
      "Column wise minimum:  [0.12945394 0.88756049 0.08205287 0.01755815]\n",
      "Row wise minimum:  [0.0215327  0.12945394 0.01755815]\n"
     ]
    }
   ],
   "source": [
    "# Row wise/ Column wise aggregations\n",
    "\n",
    "grid = np.random.random((3,4))\n",
    "print(\"Column wise minimum: \", np.amin(grid, axis=0))\n",
    "print(\"Row wise minimum: \", np.amin(grid, axis=1))"
   ]
  },
  {
   "cell_type": "code",
   "execution_count": null,
   "metadata": {},
   "outputs": [],
   "source": []
  }
 ],
 "metadata": {
  "kernelspec": {
   "display_name": "Python 3",
   "language": "python",
   "name": "python3"
  },
  "language_info": {
   "codemirror_mode": {
    "name": "ipython",
    "version": 3
   },
   "file_extension": ".py",
   "mimetype": "text/x-python",
   "name": "python",
   "nbconvert_exporter": "python",
   "pygments_lexer": "ipython3",
   "version": "3.9.0"
  }
 },
 "nbformat": 4,
 "nbformat_minor": 4
}
