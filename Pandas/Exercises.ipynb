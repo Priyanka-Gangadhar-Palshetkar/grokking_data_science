{
 "cells": [
  {
   "cell_type": "code",
   "execution_count": 5,
   "metadata": {},
   "outputs": [
    {
     "name": "stdout",
     "output_type": "stream",
     "text": [
      "           Artist Genre  Listeners\n",
      "AG  Ariana Grande  Jazz    1300000\n",
      "TS   Taylor Swift  Rock    2700000\n",
      "ED     Ed Sheeran  Jazz    5000000\n",
      "JB  Justin Bieber   Pop    2000000\n",
      "LG      Lady Gaga   Pop    3000000\n",
      "BM     Bruno Mars  Rock    1100000\n"
     ]
    }
   ],
   "source": [
    "import pandas as pd\n",
    "\n",
    "data = {'Artist': ['Ariana Grande', 'Taylor Swift', 'Ed Sheeran', 'Justin Bieber', 'Lady Gaga', 'Bruno Mars'],\n",
    "        'Genre': ['Jazz', 'Rock', 'Jazz', 'Pop', 'Pop', 'Rock'],\n",
    "        'Listeners': [1300000, 2700000, 5000000, 2000000, 3000000, 1100000]}\n",
    "\n",
    "labels = ['AG', 'TS', 'ED', 'JB', 'LG', 'BM']\n",
    "\n",
    "df = pd.DataFrame(data, index=labels)\n",
    "\n",
    "print(df)"
   ]
  },
  {
   "cell_type": "code",
   "execution_count": 18,
   "metadata": {},
   "outputs": [
    {
     "name": "stdout",
     "output_type": "stream",
     "text": [
      "Col:  AG    1300000\n",
      "TS    2700000\n",
      "ED    5000000\n",
      "JB    2000000\n",
      "LG    3000000\n",
      "BM    1100000\n",
      "Name: Listeners, dtype: int64\n",
      "Row:  Artist       Ariana Grande\n",
      "Genre                 Jazz\n",
      "Listeners          1300000\n",
      "Name: AG, dtype: object\n"
     ]
    }
   ],
   "source": [
    "col = df['Listeners']\n",
    "row = df.loc['AG']\n",
    "\n",
    "print(\"Col: \", col)\n",
    "print(\"Row: \", row)"
   ]
  },
  {
   "cell_type": "code",
   "execution_count": 19,
   "metadata": {},
   "outputs": [
    {
     "name": "stdout",
     "output_type": "stream",
     "text": [
      "           Artist Genre  Listeners\n",
      "JB  Justin Bieber   Pop    2000000\n",
      "LG      Lady Gaga   Pop    3000000\n"
     ]
    }
   ],
   "source": [
    "pop_artists = df[df['Genre'] == 'Pop']\n",
    "\n",
    "print(pop_artists)"
   ]
  },
  {
   "cell_type": "code",
   "execution_count": 21,
   "metadata": {},
   "outputs": [
    {
     "name": "stdout",
     "output_type": "stream",
     "text": [
      "       Artist Genre  Listeners\n",
      "LG  Lady Gaga   Pop    3000000\n"
     ]
    }
   ],
   "source": [
    "top_pop = df[(df['Genre'] == 'Pop') & (df['Listeners'] > 2000000)]\n",
    "print(top_pop)"
   ]
  },
  {
   "cell_type": "code",
   "execution_count": 24,
   "metadata": {},
   "outputs": [
    {
     "name": "stdout",
     "output_type": "stream",
     "text": [
      "       Listeners\n",
      "Genre           \n",
      "Jazz     6300000\n",
      "Pop      5000000\n",
      "Rock     3800000\n"
     ]
    }
   ],
   "source": [
    "grouped = df.groupby(['Genre']).sum()\n",
    "\n",
    "print(grouped)"
   ]
  },
  {
   "cell_type": "code",
   "execution_count": null,
   "metadata": {},
   "outputs": [],
   "source": []
  }
 ],
 "metadata": {
  "kernelspec": {
   "display_name": "Python 3",
   "language": "python",
   "name": "python3"
  },
  "language_info": {
   "codemirror_mode": {
    "name": "ipython",
    "version": 3
   },
   "file_extension": ".py",
   "mimetype": "text/x-python",
   "name": "python",
   "nbconvert_exporter": "python",
   "pygments_lexer": "ipython3",
   "version": "3.9.0"
  }
 },
 "nbformat": 4,
 "nbformat_minor": 4
}
