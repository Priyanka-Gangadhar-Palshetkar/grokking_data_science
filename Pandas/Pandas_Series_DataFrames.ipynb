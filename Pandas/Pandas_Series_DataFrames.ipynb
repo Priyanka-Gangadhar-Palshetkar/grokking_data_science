{
 "cells": [
  {
   "cell_type": "code",
   "execution_count": 1,
   "metadata": {},
   "outputs": [],
   "source": [
    "import pandas as pd"
   ]
  },
  {
   "cell_type": "code",
   "execution_count": 11,
   "metadata": {},
   "outputs": [
    {
     "name": "stdout",
     "output_type": "stream",
     "text": [
      "0    1\n",
      "1    3\n",
      "2    5\n",
      "3    7\n",
      "dtype: int64\n"
     ]
    }
   ],
   "source": [
    "# Pandas Series - Creation from lists/arrays\n",
    "\n",
    "series = pd.Series([1,3,5,7])\n",
    "print(series)"
   ]
  },
  {
   "cell_type": "code",
   "execution_count": 12,
   "metadata": {},
   "outputs": [
    {
     "name": "stdout",
     "output_type": "stream",
     "text": [
      "Values:  [1 3 5 7]\n",
      "Indices:  RangeIndex(start=0, stop=4, step=1)\n"
     ]
    }
   ],
   "source": [
    "# Series consists of values and indices - values are a numpy array while \n",
    "# the indices are an array-like immutable objects pd.Index\n",
    "\n",
    "print(\"Values: \", series.values)\n",
    "print(\"Indices: \", series.index)"
   ]
  },
  {
   "cell_type": "code",
   "execution_count": 13,
   "metadata": {},
   "outputs": [
    {
     "name": "stdout",
     "output_type": "stream",
     "text": [
      "First value:  5\n",
      "Slicing:  0    1\n",
      "1    3\n",
      "dtype: int64\n"
     ]
    }
   ],
   "source": [
    "# Indexing and slicing\n",
    "\n",
    "print(\"First value: \", series[2])\n",
    "print(\"Slicing: \", series[0:2])"
   ]
  },
  {
   "cell_type": "code",
   "execution_count": 14,
   "metadata": {},
   "outputs": [
    {
     "name": "stdout",
     "output_type": "stream",
     "text": [
      "a    1\n",
      "b    2\n",
      "c    3\n",
      "d    4\n",
      "e    5\n",
      "dtype: int64\n",
      "Accesing element at c:  3\n"
     ]
    }
   ],
   "source": [
    "# Why use Pandas Series instead of Numpy arrays - Explicit index definitions\n",
    "\n",
    "data = pd.Series([1,2,3,4,5], index=['a', 'b', 'c', 'd', 'e'])\n",
    "\n",
    "print(data)\n",
    "print(\"Accesing element at c: \", data['c'])"
   ]
  },
  {
   "cell_type": "code",
   "execution_count": 2,
   "metadata": {},
   "outputs": [
    {
     "name": "stdout",
     "output_type": "stream",
     "text": [
      "Apple Value:  10\n",
      "Slicing:  apples     10\n",
      "oranges     8\n",
      "dtype: int64\n"
     ]
    }
   ],
   "source": [
    "# Series from a dictionary\n",
    "\n",
    "fruits_dict = {'apples': 10, 'oranges': 8, 'bananas': 23}\n",
    "\n",
    "fruits = pd.Series(fruits_dict)\n",
    "\n",
    "print(\"Apple Value: \", fruits['apples'])\n",
    "\n",
    "print(\"Slicing: \", fruits['apples' : 'oranges'])"
   ]
  },
  {
   "cell_type": "code",
   "execution_count": 5,
   "metadata": {},
   "outputs": [
    {
     "name": "stdout",
     "output_type": "stream",
     "text": [
      "         Quantity\n",
      "apples         10\n",
      "oranges         8\n",
      "bananas        23\n"
     ]
    }
   ],
   "source": [
    "# DataFrame Object - Creation from a Series Object\n",
    "\n",
    "fruits_dataframe = pd.DataFrame(fruits, columns=['Quantity'])\n",
    "print(fruits_dataframe)"
   ]
  },
  {
   "cell_type": "code",
   "execution_count": 9,
   "metadata": {},
   "outputs": [
    {
     "name": "stdout",
     "output_type": "stream",
     "text": [
      "    country    capital\n",
      "0     India  New Delhi\n",
      "1  Pakistan  Islamabad\n",
      "2    Africa  Cape Town\n",
      "3     Nepal  Kathmandu\n"
     ]
    }
   ],
   "source": [
    "# Creation from a Dictionary\n",
    "\n",
    "dict = {'country': ['India', 'Pakistan', 'Africa', 'Nepal'], \n",
    "        'capital': ['New Delhi', 'Islamabad', 'Cape Town', 'Kathmandu']}\n",
    "data = pd.DataFrame(dict)\n",
    "print(data)"
   ]
  },
  {
   "cell_type": "code",
   "execution_count": 10,
   "metadata": {},
   "outputs": [
    {
     "name": "stdout",
     "output_type": "stream",
     "text": [
      "         quantity  price\n",
      "apples         10    4.0\n",
      "oranges         8    4.5\n",
      "bananas        23    5.0\n"
     ]
    }
   ],
   "source": [
    "# Creation from a Dictionary of series objects\n",
    "quantity = fruits\n",
    "\n",
    "price = pd.Series([4,4.5,5], index=['apples', 'oranges', 'bananas'])\n",
    "\n",
    "dataFrame = pd.DataFrame({'quantity': quantity, 'price': price})\n",
    "\n",
    "print(dataFrame)"
   ]
  },
  {
   "cell_type": "code",
   "execution_count": 11,
   "metadata": {},
   "outputs": [
    {
     "name": "stdout",
     "output_type": "stream",
     "text": [
      "<bound method NDFrame.head of                                                   review sentiment\n",
      "0      One of the other reviewers has mentioned that ...  positive\n",
      "1      A wonderful little production. <br /><br />The...  positive\n",
      "2      I thought this was a wonderful way to spend ti...  positive\n",
      "3      Basically there's a family where a little boy ...  negative\n",
      "4      Petter Mattei's \"Love in the Time of Money\" is...  positive\n",
      "...                                                  ...       ...\n",
      "49995  I thought this movie did a down right good job...  positive\n",
      "49996  Bad plot, bad dialogue, bad acting, idiotic di...  negative\n",
      "49997  I am a Catholic taught in parochial elementary...  negative\n",
      "49998  I'm going to have to disagree with the previou...  negative\n",
      "49999  No one expects the Star Trek movies to be high...  negative\n",
      "\n",
      "[50000 rows x 2 columns]>\n"
     ]
    }
   ],
   "source": [
    "# Creation by importing Data from a file\n",
    "\n",
    "df = pd.read_csv('imdb.csv')\n",
    "\n",
    "print(df.head)"
   ]
  },
  {
   "cell_type": "code",
   "execution_count": null,
   "metadata": {},
   "outputs": [],
   "source": [
    "#read_json - read json files\n",
    "#read_excel - read excel files"
   ]
  }
 ],
 "metadata": {
  "kernelspec": {
   "display_name": "Python 3",
   "language": "python",
   "name": "python3"
  },
  "language_info": {
   "codemirror_mode": {
    "name": "ipython",
    "version": 3
   },
   "file_extension": ".py",
   "mimetype": "text/x-python",
   "name": "python",
   "nbconvert_exporter": "python",
   "pygments_lexer": "ipython3",
   "version": "3.9.0"
  }
 },
 "nbformat": 4,
 "nbformat_minor": 4
}
