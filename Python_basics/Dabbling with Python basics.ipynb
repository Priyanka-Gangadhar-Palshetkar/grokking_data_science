{
 "cells": [
  {
   "cell_type": "code",
   "execution_count": 1,
   "metadata": {},
   "outputs": [
    {
     "name": "stdout",
     "output_type": "stream",
     "text": [
      "Average: 2.0\n"
     ]
    }
   ],
   "source": [
    "# Average of list of numbers\n",
    "\n",
    "def average(list):\n",
    "    sum = 0;\n",
    "    for num in list:\n",
    "        sum += num\n",
    "    length = len(list)\n",
    "    return sum/length\n",
    "    \n",
    "print(\"Average:\", average([2,3,4,-1]))\n"
   ]
  },
  {
   "cell_type": "code",
   "execution_count": 2,
   "metadata": {},
   "outputs": [
    {
     "name": "stdout",
     "output_type": "stream",
     "text": [
      "Average: 2.3333333333333335\n"
     ]
    }
   ],
   "source": [
    "def averageNew(list):\n",
    "    return sum(list)/len(list)\n",
    "    \n",
    "print(\"Average:\", averageNew([1,2,4]))"
   ]
  },
  {
   "cell_type": "code",
   "execution_count": 3,
   "metadata": {},
   "outputs": [
    {
     "name": "stdout",
     "output_type": "stream",
     "text": [
      "Factorial: 120\n"
     ]
    }
   ],
   "source": [
    "# Factorial of a number\n",
    "\n",
    "def factorial(n):\n",
    "    \n",
    "    if n < 0:\n",
    "        return \"Negative number!\"\n",
    "    if ((n == 0) or (n == 1)):\n",
    "        return 1\n",
    "        \n",
    "    fact = 1;\n",
    "    for i in range(1,n+1):\n",
    "        fact = i * fact;\n",
    "    return fact\n",
    "\n",
    "print(\"Factorial:\", factorial(5))"
   ]
  },
  {
   "cell_type": "code",
   "execution_count": null,
   "metadata": {},
   "outputs": [],
   "source": []
  }
 ],
 "metadata": {
  "kernelspec": {
   "display_name": "Python 3",
   "language": "python",
   "name": "python3"
  },
  "language_info": {
   "codemirror_mode": {
    "name": "ipython",
    "version": 3
   },
   "file_extension": ".py",
   "mimetype": "text/x-python",
   "name": "python",
   "nbconvert_exporter": "python",
   "pygments_lexer": "ipython3",
   "version": "3.9.0"
  }
 },
 "nbformat": 4,
 "nbformat_minor": 4
}
